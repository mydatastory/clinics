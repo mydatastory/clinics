{
 "cells": [
  {
   "cell_type": "markdown",
   "metadata": {},
   "source": [
    "## NOAA Fisheries Data Challenge"
   ]
  },
  {
   "cell_type": "markdown",
   "metadata": {},
   "source": [
    "At some point in the later part of the 20th century, the amount of cod changed in some drmatic ways. Use the dataset from the NOAA website to learn what happened. Record your process below."
   ]
  },
  {
   "cell_type": "markdown",
   "metadata": {},
   "source": [
    "#### Import Pandas and Dataset"
   ]
  },
  {
   "cell_type": "code",
   "execution_count": 11,
   "metadata": {},
   "outputs": [
    {
     "name": "stdout",
     "output_type": "stream",
     "text": [
      "<class 'pandas.core.frame.DataFrame'>\n",
      "RangeIndex: 109915 entries, 0 to 109914\n",
      "Data columns (total 6 columns):\n",
      "Year          109915 non-null int64\n",
      "State Name    109915 non-null object\n",
      "AFS Name      109915 non-null object\n",
      "Pounds        109908 non-null object\n",
      "Dollars       109894 non-null object\n",
      "Conf          2813 non-null object\n",
      "dtypes: int64(1), object(5)\n",
      "memory usage: 5.0+ MB\n"
     ]
    }
   ],
   "source": [
    "import pandas as pnd\n",
    "import matplotlib.pyplot as plt\n",
    "noaa = pnd.read_csv(\"C:/Users/drewc/Downloads/noaa_master_data.csv\")\n",
    "noaa.info()"
   ]
  },
  {
   "cell_type": "markdown",
   "metadata": {},
   "source": [
    "#### Remove Commas from String Numbers"
   ]
  },
  {
   "cell_type": "code",
   "execution_count": 2,
   "metadata": {},
   "outputs": [
    {
     "name": "stdout",
     "output_type": "stream",
     "text": [
      "<class 'pandas.core.frame.DataFrame'>\n",
      "RangeIndex: 109915 entries, 0 to 109914\n",
      "Data columns (total 6 columns):\n",
      "Year          109915 non-null int64\n",
      "State Name    109915 non-null object\n",
      "AFS Name      109915 non-null object\n",
      "Pounds        109908 non-null object\n",
      "Dollars       109894 non-null object\n",
      "Conf          2813 non-null object\n",
      "dtypes: int64(1), object(5)\n",
      "memory usage: 5.0+ MB\n"
     ]
    }
   ],
   "source": [
    "noaa['Pounds'] = noaa.Pounds.str.replace(',', '')\n",
    "noaa['Dollars'] = noaa.Dollars.str.replace(',', '')\n",
    "noaa.info()"
   ]
  },
  {
   "cell_type": "markdown",
   "metadata": {},
   "source": [
    "#### Convert String Numbers to float64"
   ]
  },
  {
   "cell_type": "code",
   "execution_count": 3,
   "metadata": {},
   "outputs": [
    {
     "name": "stdout",
     "output_type": "stream",
     "text": [
      "<class 'pandas.core.frame.DataFrame'>\n",
      "RangeIndex: 109915 entries, 0 to 109914\n",
      "Data columns (total 6 columns):\n",
      "Year          109915 non-null int64\n",
      "State Name    109915 non-null object\n",
      "AFS Name      109915 non-null object\n",
      "Pounds        109908 non-null float64\n",
      "Dollars       109894 non-null float64\n",
      "Conf          2813 non-null object\n",
      "dtypes: float64(2), int64(1), object(3)\n",
      "memory usage: 5.0+ MB\n"
     ]
    }
   ],
   "source": [
    "noaa['Pounds'] = noaa['Pounds'].astype('float')\n",
    "noaa['Dollars'] = noaa['Dollars'].astype('float')\n",
    "noaa.info()"
   ]
  },
  {
   "cell_type": "markdown",
   "metadata": {},
   "source": [
    "#### Drop an Unwanted Column"
   ]
  },
  {
   "cell_type": "code",
   "execution_count": 4,
   "metadata": {},
   "outputs": [
    {
     "name": "stdout",
     "output_type": "stream",
     "text": [
      "<class 'pandas.core.frame.DataFrame'>\n",
      "RangeIndex: 109915 entries, 0 to 109914\n",
      "Data columns (total 4 columns):\n",
      "Year          109915 non-null int64\n",
      "State Name    109915 non-null object\n",
      "AFS Name      109915 non-null object\n",
      "Pounds        109908 non-null float64\n",
      "dtypes: float64(1), int64(1), object(2)\n",
      "memory usage: 3.4+ MB\n"
     ]
    }
   ],
   "source": [
    "noaa = noaa.drop(['Conf', 'Dollars'], axis=1)\n",
    "noaa.info()"
   ]
  },
  {
   "cell_type": "markdown",
   "metadata": {},
   "source": [
    "#### Change Column Names"
   ]
  },
  {
   "cell_type": "code",
   "execution_count": 5,
   "metadata": {},
   "outputs": [
    {
     "name": "stdout",
     "output_type": "stream",
     "text": [
      "<class 'pandas.core.frame.DataFrame'>\n",
      "RangeIndex: 109915 entries, 0 to 109914\n",
      "Data columns (total 4 columns):\n",
      "Year       109915 non-null int64\n",
      "State      109915 non-null object\n",
      "Species    109915 non-null object\n",
      "Pounds     109908 non-null float64\n",
      "dtypes: float64(1), int64(1), object(2)\n",
      "memory usage: 3.4+ MB\n"
     ]
    }
   ],
   "source": [
    "noaa.columns = ['Year', 'State', 'Species', 'Pounds']\n",
    "noaa.info()"
   ]
  },
  {
   "cell_type": "markdown",
   "metadata": {},
   "source": [
    "#### Group By Year, State, and Species"
   ]
  },
  {
   "cell_type": "code",
   "execution_count": 7,
   "metadata": {},
   "outputs": [
    {
     "name": "stdout",
     "output_type": "stream",
     "text": [
      "<class 'pandas.core.frame.DataFrame'>\n",
      "MultiIndex: 99191 entries, (1945, Alabama, BLUEFISH) to (2017, Washington, TUNA, ALBACORE)\n",
      "Data columns (total 1 columns):\n",
      "Pounds    99191 non-null float64\n",
      "dtypes: float64(1)\n",
      "memory usage: 1.1+ MB\n"
     ]
    }
   ],
   "source": [
    "group = noaa.groupby(['Year', 'State', 'Species']).sum()\n",
    "group.info()"
   ]
  },
  {
   "cell_type": "markdown",
   "metadata": {},
   "source": [
    "#### Reset Index to Reset Column Names"
   ]
  },
  {
   "cell_type": "code",
   "execution_count": 8,
   "metadata": {},
   "outputs": [
    {
     "name": "stdout",
     "output_type": "stream",
     "text": [
      "<class 'pandas.core.frame.DataFrame'>\n",
      "RangeIndex: 99191 entries, 0 to 99190\n",
      "Data columns (total 4 columns):\n",
      "Year       99191 non-null int64\n",
      "State      99191 non-null object\n",
      "Species    99191 non-null object\n",
      "Pounds     99191 non-null float64\n",
      "dtypes: float64(1), int64(1), object(2)\n",
      "memory usage: 3.0+ MB\n"
     ]
    }
   ],
   "source": [
    "ready = group.reset_index(level=['Year', 'State', 'Species'])\n",
    "ready.info()"
   ]
  },
  {
   "cell_type": "markdown",
   "metadata": {},
   "source": [
    "#### Filter Dataset for Atlantic Cod in Massachusetts"
   ]
  },
  {
   "cell_type": "code",
   "execution_count": 9,
   "metadata": {},
   "outputs": [
    {
     "name": "stdout",
     "output_type": "stream",
     "text": [
      "<class 'pandas.core.frame.DataFrame'>\n",
      "Int64Index: 73 entries, 260 to 98300\n",
      "Data columns (total 4 columns):\n",
      "Year       73 non-null int64\n",
      "State      73 non-null object\n",
      "Species    73 non-null object\n",
      "Pounds     73 non-null float64\n",
      "dtypes: float64(1), int64(1), object(2)\n",
      "memory usage: 2.9+ KB\n"
     ]
    },
    {
     "data": {
      "text/html": [
       "<div>\n",
       "<style scoped>\n",
       "    .dataframe tbody tr th:only-of-type {\n",
       "        vertical-align: middle;\n",
       "    }\n",
       "\n",
       "    .dataframe tbody tr th {\n",
       "        vertical-align: top;\n",
       "    }\n",
       "\n",
       "    .dataframe thead th {\n",
       "        text-align: right;\n",
       "    }\n",
       "</style>\n",
       "<table border=\"1\" class=\"dataframe\">\n",
       "  <thead>\n",
       "    <tr style=\"text-align: right;\">\n",
       "      <th></th>\n",
       "      <th>Year</th>\n",
       "      <th>State</th>\n",
       "      <th>Species</th>\n",
       "      <th>Pounds</th>\n",
       "    </tr>\n",
       "  </thead>\n",
       "  <tbody>\n",
       "    <tr>\n",
       "      <th>260</th>\n",
       "      <td>1945</td>\n",
       "      <td>Massachusetts</td>\n",
       "      <td>COD, ATLANTIC</td>\n",
       "      <td>132759200.0</td>\n",
       "    </tr>\n",
       "    <tr>\n",
       "      <th>840</th>\n",
       "      <td>1946</td>\n",
       "      <td>Massachusetts</td>\n",
       "      <td>COD, ATLANTIC</td>\n",
       "      <td>80352000.0</td>\n",
       "    </tr>\n",
       "    <tr>\n",
       "      <th>1272</th>\n",
       "      <td>1947</td>\n",
       "      <td>Massachusetts</td>\n",
       "      <td>COD, ATLANTIC</td>\n",
       "      <td>58521100.0</td>\n",
       "    </tr>\n",
       "    <tr>\n",
       "      <th>1834</th>\n",
       "      <td>1948</td>\n",
       "      <td>Massachusetts</td>\n",
       "      <td>COD, ATLANTIC</td>\n",
       "      <td>60749600.0</td>\n",
       "    </tr>\n",
       "    <tr>\n",
       "      <th>2522</th>\n",
       "      <td>1949</td>\n",
       "      <td>Massachusetts</td>\n",
       "      <td>COD, ATLANTIC</td>\n",
       "      <td>50418700.0</td>\n",
       "    </tr>\n",
       "  </tbody>\n",
       "</table>\n",
       "</div>"
      ],
      "text/plain": [
       "      Year          State        Species       Pounds\n",
       "260   1945  Massachusetts  COD, ATLANTIC  132759200.0\n",
       "840   1946  Massachusetts  COD, ATLANTIC   80352000.0\n",
       "1272  1947  Massachusetts  COD, ATLANTIC   58521100.0\n",
       "1834  1948  Massachusetts  COD, ATLANTIC   60749600.0\n",
       "2522  1949  Massachusetts  COD, ATLANTIC   50418700.0"
      ]
     },
     "execution_count": 9,
     "metadata": {},
     "output_type": "execute_result"
    }
   ],
   "source": [
    "cod = ready[ready.Species == 'COD, ATLANTIC']\n",
    "MA = cod[cod.State == 'Massachusetts']\n",
    "MA.info()\n",
    "MA.head()"
   ]
  },
  {
   "cell_type": "markdown",
   "metadata": {},
   "source": [
    "#### Define Varriables and Create Plot with Labels, Title and Legend"
   ]
  },
  {
   "cell_type": "code",
   "execution_count": 12,
   "metadata": {},
   "outputs": [
    {
     "data": {
      "text/plain": [
       "Text(0.5, 1.0, 'Atlantic Cod in Massachusetts')"
      ]
     },
     "execution_count": 12,
     "metadata": {},
     "output_type": "execute_result"
    },
    {
     "data": {
      "image/png": "[encoded data removed]",
      "text/plain": [
       "<Figure size 432x288 with 1 Axes>"
      ]
     },
     "metadata": {
      "needs_background": "light"
     },
     "output_type": "display_data"
    }
   ],
   "source": [
    "x = MA['Year']\n",
    "y = MA['Pounds']\n",
    "plt.plot(x, y, 'b--')\n",
    "plt.ylabel('Pounds')\n",
    "plt.xlabel('Fishing Year')\n",
    "plt.title('Atlantic Cod in Massachusetts')"
   ]
  },
  {
   "cell_type": "markdown",
   "metadata": {},
   "source": [
    "## Conculsion"
   ]
  },
  {
   "cell_type": "markdown",
   "metadata": {},
   "source": [
    "According to the above graph, the cod harvest in Massachusetts dropped significantly beteen the early nineties and 2010. An initial assessment of the data showed that Massachusetts had the highest harvests of any atlantic state and was most affected by the drop. It is unclear whether the amount harvested before 1950 is a mistake in the recording or a large uptick due to the war effort. "
   ]
  },
  {
   "cell_type": "code",
   "execution_count": null,
   "metadata": {},
   "outputs": [],
   "source": []
  }
 ],
 "metadata": {
  "kernelspec": {
   "display_name": "Python 3",
   "language": "python",
   "name": "python3"
  },
  "language_info": {
   "codemirror_mode": {
    "name": "ipython",
    "version": 3
   },
   "file_extension": ".py",
   "mimetype": "text/x-python",
   "name": "python",
   "nbconvert_exporter": "python",
   "pygments_lexer": "ipython3",
   "version": "3.7.3"
  }
 },
 "nbformat": 4,
 "nbformat_minor": 2
}
